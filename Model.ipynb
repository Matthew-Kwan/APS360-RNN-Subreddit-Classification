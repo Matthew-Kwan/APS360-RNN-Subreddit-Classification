{
 "cells": [
  {
   "cell_type": "markdown",
   "metadata": {},
   "source": [
    "# APS360 - Classifying Subreddits\n",
    "\n",
    "Bassam Bibi<br>\n",
    "Matthew Kwan"
   ]
  },
  {
   "cell_type": "markdown",
   "metadata": {},
   "source": [
    "## Imports"
   ]
  },
  {
   "cell_type": "code",
   "execution_count": 3,
   "metadata": {},
   "outputs": [],
   "source": [
    "import csv\n",
    "import torch\n",
    "import torch.nn as nn\n",
    "import torch.nn.functional as F\n",
    "import torch.optim as optim\n",
    "import torchtext\n",
    "import numpy as np \n",
    "import pandas as pd\n",
    "import matplotlib.pyplot as plt"
   ]
  },
  {
   "cell_type": "markdown",
   "metadata": {},
   "source": [
    "## Load Data"
   ]
  },
  {
   "cell_type": "code",
   "execution_count": 6,
   "metadata": {},
   "outputs": [
    {
     "data": {
      "text/html": [
       "<div>\n",
       "<style scoped>\n",
       "    .dataframe tbody tr th:only-of-type {\n",
       "        vertical-align: middle;\n",
       "    }\n",
       "\n",
       "    .dataframe tbody tr th {\n",
       "        vertical-align: top;\n",
       "    }\n",
       "\n",
       "    .dataframe thead th {\n",
       "        text-align: right;\n",
       "    }\n",
       "</style>\n",
       "<table border=\"1\" class=\"dataframe\">\n",
       "  <thead>\n",
       "    <tr style=\"text-align: right;\">\n",
       "      <th></th>\n",
       "      <th>Unnamed: 0</th>\n",
       "      <th>Unnamed: 0.1</th>\n",
       "      <th>id</th>\n",
       "      <th>subreddit</th>\n",
       "      <th>titles</th>\n",
       "      <th>post</th>\n",
       "      <th>score</th>\n",
       "      <th>url</th>\n",
       "    </tr>\n",
       "  </thead>\n",
       "  <tbody>\n",
       "    <tr>\n",
       "      <th>0</th>\n",
       "      <td>0</td>\n",
       "      <td>0</td>\n",
       "      <td>1</td>\n",
       "      <td>history</td>\n",
       "      <td>'New \"Discovery Mode\" turns video game \"Assass...</td>\n",
       "      <td>NaN</td>\n",
       "      <td>53786</td>\n",
       "      <td>https://www.theverge.com/2018/2/20/17033024/as...</td>\n",
       "    </tr>\n",
       "    <tr>\n",
       "      <th>1</th>\n",
       "      <td>1</td>\n",
       "      <td>1</td>\n",
       "      <td>2</td>\n",
       "      <td>history</td>\n",
       "      <td>'We are not here to help you with your End of ...</td>\n",
       "      <td>NaN</td>\n",
       "      <td>38419</td>\n",
       "      <td>https://www.reddit.com/r/history/comments/8pw3...</td>\n",
       "    </tr>\n",
       "    <tr>\n",
       "      <th>2</th>\n",
       "      <td>2</td>\n",
       "      <td>2</td>\n",
       "      <td>3</td>\n",
       "      <td>history</td>\n",
       "      <td>\"A 1776 excerpt from John Adam's diary where h...</td>\n",
       "      <td>NaN</td>\n",
       "      <td>35984</td>\n",
       "      <td>https://founders.archives.gov/documents/Adams/...</td>\n",
       "    </tr>\n",
       "    <tr>\n",
       "      <th>3</th>\n",
       "      <td>3</td>\n",
       "      <td>3</td>\n",
       "      <td>4</td>\n",
       "      <td>history</td>\n",
       "      <td>'Famous Viking warrior burial revealed to be t...</td>\n",
       "      <td>NaN</td>\n",
       "      <td>34919</td>\n",
       "      <td>http://www.news.com.au/technology/science/arch...</td>\n",
       "    </tr>\n",
       "    <tr>\n",
       "      <th>4</th>\n",
       "      <td>4</td>\n",
       "      <td>4</td>\n",
       "      <td>5</td>\n",
       "      <td>history</td>\n",
       "      <td>\"3,000-year-old underwater castle discovered i...</td>\n",
       "      <td>NaN</td>\n",
       "      <td>34196</td>\n",
       "      <td>https://inhabitat.com/3000-year-old-underwater...</td>\n",
       "    </tr>\n",
       "  </tbody>\n",
       "</table>\n",
       "</div>"
      ],
      "text/plain": [
       "   Unnamed: 0  Unnamed: 0.1  id subreddit  \\\n",
       "0           0             0   1   history   \n",
       "1           1             1   2   history   \n",
       "2           2             2   3   history   \n",
       "3           3             3   4   history   \n",
       "4           4             4   5   history   \n",
       "\n",
       "                                              titles post  score  \\\n",
       "0  'New \"Discovery Mode\" turns video game \"Assass...  NaN  53786   \n",
       "1  'We are not here to help you with your End of ...  NaN  38419   \n",
       "2  \"A 1776 excerpt from John Adam's diary where h...  NaN  35984   \n",
       "3  'Famous Viking warrior burial revealed to be t...  NaN  34919   \n",
       "4  \"3,000-year-old underwater castle discovered i...  NaN  34196   \n",
       "\n",
       "                                                 url  \n",
       "0  https://www.theverge.com/2018/2/20/17033024/as...  \n",
       "1  https://www.reddit.com/r/history/comments/8pw3...  \n",
       "2  https://founders.archives.gov/documents/Adams/...  \n",
       "3  http://www.news.com.au/technology/science/arch...  \n",
       "4  https://inhabitat.com/3000-year-old-underwater...  "
      ]
     },
     "execution_count": 6,
     "metadata": {},
     "output_type": "execute_result"
    }
   ],
   "source": [
    "df = pd.read_csv('./data/removed_b_datav3.csv')\n",
    "df.head()"
   ]
  },
  {
   "cell_type": "code",
   "execution_count": 7,
   "metadata": {},
   "outputs": [
    {
     "name": "stderr",
     "output_type": "stream",
     "text": [
      ".vector_cache\\glove.6B.zip: 862MB [06:36, 2.17MB/s]                                                                    \n",
      "  2%|█▎                                                                       | 7495/400000 [00:00<00:10, 36160.05it/s]\n"
     ]
    }
   ],
   "source": [
    "glove = torchtext.vocab.GloVe(name=\"6B\", dim=50, max_vectors=10000) \n",
    "\n",
    "# We will be using an embedding layer so we can first store the index of each word in a PyTorch tensor:"
   ]
  },
  {
   "cell_type": "markdown",
   "metadata": {},
   "source": [
    "## Preliminary Model"
   ]
  },
  {
   "cell_type": "code",
   "execution_count": null,
   "metadata": {},
   "outputs": [],
   "source": [
    "class RedditLSTM(nn.Module):\n",
    "    def __init__(self, input_size, hidden_size, num_classes):\n",
    "        super(RedditLSTM, self).__init__()\n",
    "        self.emb = nn.Embedding.from_pretrained(glove.vectors)\n",
    "        self.hidden_size = hidden_size\n",
    "        self.rnn = nn.LSTM(input_size, hidden_size, batch_first=True)\n",
    "        self.fc = nn.Linear(hidden_size, num_classes)\n",
    "    \n",
    "    def forward(self, x):\n",
    "        # Look up the embedding\n",
    "        x = self.emb(x)\n",
    "        # Set an initial hidden state and cell state\n",
    "        h0 = torch.zeros(1, x.size(0), self.hidden_size)\n",
    "        c0 = torch.zeros(1, x.size(0), self.hidden_size)\n",
    "        # Forward propagate the LSTM\n",
    "        out, _ = self.rnn(x, (h0, c0))\n",
    "        # Pass the output of the last time step to the classifier\n",
    "        out = self.fc(out[:, -1, :])\n",
    "        return out"
   ]
  }
 ],
 "metadata": {
  "kernelspec": {
   "display_name": "Python 3",
   "language": "python",
   "name": "python3"
  },
  "language_info": {
   "codemirror_mode": {
    "name": "ipython",
    "version": 3
   },
   "file_extension": ".py",
   "mimetype": "text/x-python",
   "name": "python",
   "nbconvert_exporter": "python",
   "pygments_lexer": "ipython3",
   "version": "3.6.7"
  }
 },
 "nbformat": 4,
 "nbformat_minor": 2
}
